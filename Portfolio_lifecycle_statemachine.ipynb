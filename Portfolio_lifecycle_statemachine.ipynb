{
 "cells": [
  {
   "cell_type": "code",
   "execution_count": 53,
   "metadata": {},
   "outputs": [],
   "source": [
    "import matplotlib\n",
    "import matplotlib.pyplot as plt\n",
    "import numpy as np\n",
    "import random\n",
    "import weakref"
   ]
  },
  {
   "cell_type": "code",
   "execution_count": 54,
   "metadata": {},
   "outputs": [],
   "source": [
    "class Projects:\n",
    "    \n",
    "    _instances=set()\n",
    "    \n",
    "    def __init__(self,number,name,state,reward):\n",
    "        self.number=number\n",
    "        self.name=name\n",
    "        self.state=state\n",
    "        self.reward=reward\n",
    "        self._instances.add(weakref.ref(self))\n",
    "        \n",
    "    @classmethod\n",
    "    def getinstances(cls):\n",
    "        for i in cls._instances:\n",
    "            yield i()"
   ]
  },
  {
   "cell_type": "code",
   "execution_count": 55,
   "metadata": {},
   "outputs": [],
   "source": [
    "p1=Projects(1,'DT','Proposal',0)\n",
    "p2=Projects(2,'Covid_plan','Business_Case',0)\n",
    "\n",
    "# https://www.codegrepper.com/code-examples/python/how+to+get+a+list+of+all+instances+of+a+class+in+python"
   ]
  },
  {
   "cell_type": "code",
   "execution_count": 56,
   "metadata": {},
   "outputs": [],
   "source": [
    "# W and S': Reward and State transition\n",
    "def step(state,action):\n",
    "    \n",
    "    if action == 'promote':\n",
    "        if state == 'Proposal':\n",
    "            return 'Business_Case', -2\n",
    "        if state == 'Business_Case':\n",
    "            return 'Project_planned', -5\n",
    "        if state == 'Project_planned':\n",
    "            return 'Project_started', -2\n",
    "        if state == 'Project_started':\n",
    "            return 'Project_complete',50\n",
    "        \n",
    "    if state == 'Project_cancelled':\n",
    "        return 'Project_cancelled',0\n",
    "    \n",
    "    if state == 'Project_complete':\n",
    "        return 'Project_complete', 0\n",
    "\n",
    "    if action == 'maintain':\n",
    "        if state == 'Proposal':\n",
    "            return \"Proposal\", -2\n",
    "        if state == 'Business_Case':\n",
    "            return 'Business_Case', -2\n",
    "        if state == 'Project_planned':\n",
    "            return 'Project_planned',-2\n",
    "        if state == 'Project_started':\n",
    "            return 'Project_started',-15\n",
    "    \n",
    "    if action=='cancel':\n",
    "        if state == 'Proposal':\n",
    "            return 'Project_cancelled', -2\n",
    "        if state == 'Business_Case':\n",
    "            return 'Project_cancelled',-5\n",
    "        if state == 'Project_planned':\n",
    "            return 'Project_cancelled', -10\n",
    "        if state == 'Project_started':\n",
    "            return 'Project_cancelled',-20"
   ]
  },
  {
   "cell_type": "code",
   "execution_count": 57,
   "metadata": {},
   "outputs": [],
   "source": [
    "# x Decision selection\n",
    "Action_options=['cancel','maintain','promote']"
   ]
  },
  {
   "cell_type": "code",
   "execution_count": 58,
   "metadata": {},
   "outputs": [
    {
     "name": "stdout",
     "output_type": "stream",
     "text": [
      "project  1 step  0 ('Business_Case', -2)\n",
      "project  1 step  1 ('Business_Case', -2)\n",
      "project  1 step  2 ('Project_cancelled', -2)\n",
      "project  1 step  3 ('Proposal', -2)\n",
      "project  1 step  4 ('Project_cancelled', -2)\n",
      "project  2 step  0 ('Business_Case', -2)\n",
      "project  2 step  1 ('Project_cancelled', -5)\n",
      "project  2 step  2 ('Business_Case', -2)\n",
      "project  2 step  3 ('Project_cancelled', -5)\n",
      "project  2 step  4 ('Project_planned', -5)\n"
     ]
    }
   ],
   "source": [
    "#Simulation of multiple trials\n",
    "success=0\n",
    "#for trial in range (1,2):\n",
    "    \n",
    "for p in Projects.getinstances():\n",
    "    \n",
    "    #state 0 decision\n",
    "    state=p.state\n",
    "    total_rewards=0\n",
    "    \n",
    "    for s in range(0,5):\n",
    "        # state s action\n",
    "        action=Action_options[random.randint(0,2)]\n",
    "\n",
    "        # state s+1\n",
    "        next_step=step(state,action)\n",
    "        next_state, this_reward = next_step\n",
    "        print ('project ',p.number, 'step ', s,next_step)\n",
    "        \n",
    "        #update project\n",
    "        p.state=next_state\n",
    "        p.reward+=this_reward\n",
    "        \n",
    "        if next_state=='Project_complete':\n",
    "            success+=1\n",
    "            break"
   ]
  },
  {
   "cell_type": "code",
   "execution_count": 59,
   "metadata": {},
   "outputs": [
    {
     "name": "stdout",
     "output_type": "stream",
     "text": [
      "DT Project_cancelled -10\n",
      "Covid_plan Project_planned -19\n"
     ]
    }
   ],
   "source": [
    "#Washup\n",
    "for p in Projects.getinstances():\n",
    "    print (p.name, p.state, p.reward )"
   ]
  },
  {
   "cell_type": "code",
   "execution_count": null,
   "metadata": {},
   "outputs": [],
   "source": []
  }
 ],
 "metadata": {
  "kernelspec": {
   "display_name": "Python 3",
   "language": "python",
   "name": "python3"
  },
  "language_info": {
   "codemirror_mode": {
    "name": "ipython",
    "version": 3
   },
   "file_extension": ".py",
   "mimetype": "text/x-python",
   "name": "python",
   "nbconvert_exporter": "python",
   "pygments_lexer": "ipython3",
   "version": "3.6.8"
  }
 },
 "nbformat": 4,
 "nbformat_minor": 4
}
